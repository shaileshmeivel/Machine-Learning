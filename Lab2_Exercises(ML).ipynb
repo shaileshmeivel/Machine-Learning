{
  "cells": [
    {
      "cell_type": "markdown",
      "metadata": {
        "id": "view-in-github",
        "colab_type": "text"
      },
      "source": [
        "<a href=\"https://colab.research.google.com/github/shaileshmeivel/Machine-Learning/blob/main/Lab2_Exercises(ML).ipynb\" target=\"_parent\"><img src=\"https://colab.research.google.com/assets/colab-badge.svg\" alt=\"Open In Colab\"/></a>"
      ]
    },
    {
      "cell_type": "markdown",
      "metadata": {
        "id": "chcMMiJKcqyJ"
      },
      "source": [
        "# **19CSE305: MACHINE LEARNING LAB 2**"
      ]
    },
    {
      "cell_type": "markdown",
      "metadata": {
        "id": "0Q-TStVVdFaA"
      },
      "source": [
        "\n",
        "\n",
        "\n",
        "\n",
        "ROLL NUMBER: "
      ]
    },
    {
      "cell_type": "markdown",
      "metadata": {
        "id": "-7EeRdSAGbw3"
      },
      "source": [
        "## Python Basic Exercises\n",
        "\n",
        "1. Get the values P,t,R from user and calculate compound interest. Formula to calculate compound interest annually is given by: \n",
        "        A = P(1+R/100)*t\n",
        "        CI = A – P\n",
        "        Input : Principle, Time, Rate\n",
        "        Output : Compound Interest\n",
        "2. Given a list of strings (Entered by the user), write program to get a percentage share of each word in the strings list.\n",
        "        percentage = (Occurrence of a word / Total words) * 100\n",
        "3. Check if  the binary representation of a number is Palindrome or not. Given an integer ‘n’ (entered by the user), write a Python function that returns true if binary representation of 'x' is palindrome and false if not.\n",
        "4. Write a program to check if all digits of a number divide it. Given a number n (entered by the user), find whether all digits of n divide it or not.\n",
        "5. Given a list of numbers (entered by the user), write a program to find the second largest number in that list.\n",
        "        Input: [1, 2, 3, 4 ,5]\n",
        "        Output: 4"
      ]
    },
    {
      "cell_type": "code",
      "execution_count": null,
      "metadata": {
        "colab": {
          "base_uri": "https://localhost:8080/"
        },
        "id": "SOYsZTltfFGm",
        "outputId": "ef9f7b6e-f669-4829-9ffa-9a47c31824c3"
      },
      "outputs": [
        {
          "output_type": "stream",
          "name": "stdout",
          "text": [
            "Enter the principle \n",
            "10000\n",
            "Enter the time period \n",
            "5\n",
            "Enter the rate \n",
            "10.25\n",
            "The compound interest is  6288.946267774416\n"
          ]
        }
      ],
      "source": [
        "#Question 1 : Compound Interest\n",
        "principle= float(input(\"Enter the principle \\n\"))\n",
        "time = float(input(\"Enter the time period \\n\"))\n",
        "rate = float(input(\"Enter the rate \\n\"))\n",
        "x=1+(rate/100)\n",
        "A = principle*(x**time)\n",
        "CompoundInterest = A - principle\n",
        "print(\"The compound interest is \", CompoundInterest)"
      ]
    },
    {
      "cell_type": "code",
      "source": [
        "#Question 2: Getting percentage share of each word\n",
        "string = input()\n",
        "stringList = string.split(\" \")\n",
        "stringCheck = input()\n",
        "\n",
        "count = 0\n",
        "percentage = 0\n",
        " \n",
        "for i in stringList:\n",
        "  if (i==stringCheck):\n",
        "    count +=1\n",
        "  \n",
        "percentage = (count/len(stringList))*100\n",
        "print(percentage)"
      ],
      "metadata": {
        "colab": {
          "base_uri": "https://localhost:8080/"
        },
        "id": "b04ZpIpGi4vg",
        "outputId": "0cd47b6d-5a47-4ca6-943e-f4018ca907fd"
      },
      "execution_count": null,
      "outputs": [
        {
          "output_type": "stream",
          "name": "stdout",
          "text": [
            "the car wash is the\n",
            "the\n",
            "40.0\n"
          ]
        }
      ]
    },
    {
      "cell_type": "code",
      "source": [
        "#Question 3: Check if a binary \n",
        "number = int(input())\n",
        "binary = (bin(number)[2:])\n",
        "if(binary == binary[ :: -1]):\n",
        "  print(\"True\")\n",
        "else:\n",
        "  print(\"False\")"
      ],
      "metadata": {
        "colab": {
          "base_uri": "https://localhost:8080/"
        },
        "id": "wZ9Z7no0p-Ra",
        "outputId": "378b8d98-abba-46a1-cefa-76c07978a542"
      },
      "execution_count": null,
      "outputs": [
        {
          "output_type": "stream",
          "name": "stdout",
          "text": [
            "9\n",
            "True\n"
          ]
        }
      ]
    },
    {
      "cell_type": "code",
      "source": [
        "#Question 5: Find 2nd largest number\n",
        "size=int(input('Enter number of elements: '))\n",
        "lis = []\n",
        "for i in range(0,size):\n",
        "  element = int(input())\n",
        "  lis.append(element)\n",
        "\n",
        "lis.sort()\n",
        "print(lis[-2])\n"
      ],
      "metadata": {
        "colab": {
          "base_uri": "https://localhost:8080/"
        },
        "id": "HZDd4YTD5sPM",
        "outputId": "06a08fc8-8c36-4507-bd07-6814d6604ec5"
      },
      "execution_count": null,
      "outputs": [
        {
          "output_type": "stream",
          "name": "stdout",
          "text": [
            "Enter number of elements: 5\n",
            "4\n",
            "2\n",
            "1\n",
            "-8\n",
            "6\n",
            "4\n"
          ]
        }
      ]
    },
    {
      "cell_type": "code",
      "source": [
        "#Question 5: Find 2nd largest number\n",
        "lis = []\n",
        "# number of elements\n",
        "n = int(input(\"Enter number of elements : \"))\n",
        "  \n",
        "# Below line read inputs from user using map() function \n",
        "lis = list(map(int,input(\"\\nEnter the numbers : \").strip().split()))[:n]\n",
        " \n",
        "print(\"\\nList is - \", lis)\n",
        "\n",
        "lis.sort()\n",
        "print(lis[-2])"
      ],
      "metadata": {
        "id": "km6X5kiB9FnV"
      },
      "execution_count": null,
      "outputs": []
    },
    {
      "cell_type": "markdown",
      "metadata": {
        "id": "Q3Ba9vORIPW4"
      },
      "source": [
        "## Numpy Basic Exercises\n",
        "\n",
        "1. Create a 3D array of shape 4*5*2 that contains random decimal numbers between 1 and 10.\n",
        "2. Create a randomly created 1D array and Convert it to a 2D array with 2 rows.\n",
        "3. Given a NumPy array of temperature values, convert the values of Centigrade degrees into Fahrenheit degrees. \n",
        "4. Write a NumPy program to count the number of dimensions, number of elements and number of bytes for each element in a given array.\n",
        "5. Write a NumPy program to extract third and second elements of the first and second rows from a given (3x4) array"
      ]
    },
    {
      "cell_type": "code",
      "source": [
        "#Question 1\n",
        "import numpy as np\n",
        "a = np.array([[[1,2], [3,4]],\n",
        "             [[0,4], [3,4]], \n",
        "             [[7,8], [5,6]],\n",
        "             [[1,2], [2,3]],\n",
        "             [[3,4], [5,4]]])\n",
        "print(a.shape)\n",
        "b = np.array([[[1,2],[3,4], [4,5], [6,7], [8,9]],\n",
        "             [[1,2],[3,4], [4,5], [6,7], [8,9]],\n",
        "              [[1,2],[3,4], [4,5], [6,7], [8,9]],\n",
        "              [[1,2],[3,4], [4,5], [6,7], [8,9]]])\n",
        "print(b.shape)\n",
        "print(b.ndim)"
      ],
      "metadata": {
        "colab": {
          "base_uri": "https://localhost:8080/"
        },
        "id": "2hNdY2cFjvQe",
        "outputId": "339d03f9-4dfc-4eca-9f59-0f48694e7ab3"
      },
      "execution_count": 20,
      "outputs": [
        {
          "output_type": "stream",
          "name": "stdout",
          "text": [
            "(5, 2, 2)\n",
            "(4, 5, 2)\n",
            "3\n"
          ]
        }
      ]
    },
    {
      "cell_type": "code",
      "source": [
        "#Question 2\n",
        "import numpy as np\n",
        "arrays = np.array([1,2,3,4,5,6])\n",
        "newArray = arrays.reshape(2,3)\n",
        "newArray"
      ],
      "metadata": {
        "colab": {
          "base_uri": "https://localhost:8080/"
        },
        "id": "6plMHcsr4Zqy",
        "outputId": "51a13256-ff5d-474d-9331-f8d93f96b3e8"
      },
      "execution_count": 9,
      "outputs": [
        {
          "output_type": "execute_result",
          "data": {
            "text/plain": [
              "array([[1, 2, 3],\n",
              "       [4, 5, 6]])"
            ]
          },
          "metadata": {},
          "execution_count": 9
        }
      ]
    },
    {
      "cell_type": "code",
      "source": [
        "#Question 5\n",
        "array = np.array([1,2,3,4,5,6,7,8,9,10,11,12])\n",
        "newArray = array.reshape(3,4)\n",
        "print(newArray)\n",
        "print(newArray[0, 1:3])\n",
        "print(newArray[1, 1:3])"
      ],
      "metadata": {
        "colab": {
          "base_uri": "https://localhost:8080/"
        },
        "id": "YzkopKBQpwXj",
        "outputId": "74edc0d2-d11e-475c-c9b2-f9130b3ad2ff"
      },
      "execution_count": 18,
      "outputs": [
        {
          "output_type": "stream",
          "name": "stdout",
          "text": [
            "[[ 1  2  3  4]\n",
            " [ 5  6  7  8]\n",
            " [ 9 10 11 12]]\n",
            "[2 3]\n",
            "[6 7]\n"
          ]
        }
      ]
    },
    {
      "cell_type": "code",
      "source": [
        "#Question 4\n",
        "print(newArray.ndim)\n",
        "print(newArray.size)\n",
        "print(newArray.itemsize)"
      ],
      "metadata": {
        "colab": {
          "base_uri": "https://localhost:8080/"
        },
        "id": "woL4XOHSq0rx",
        "outputId": "30f575c6-86c2-4ce3-95f3-ae8cc004fbb2"
      },
      "execution_count": 23,
      "outputs": [
        {
          "output_type": "stream",
          "name": "stdout",
          "text": [
            "2\n",
            "12\n",
            "8\n"
          ]
        }
      ]
    }
  ],
  "metadata": {
    "colab": {
      "collapsed_sections": [],
      "provenance": [],
      "include_colab_link": true
    },
    "kernelspec": {
      "display_name": "Python 3",
      "name": "python3"
    },
    "language_info": {
      "name": "python"
    }
  },
  "nbformat": 4,
  "nbformat_minor": 0
}