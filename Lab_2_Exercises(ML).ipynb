{
  "cells": [
    {
      "cell_type": "markdown",
      "metadata": {
        "id": "view-in-github",
        "colab_type": "text"
      },
      "source": [
        "<a href=\"https://colab.research.google.com/github/shaileshmeivel/Machine-Learning/blob/main/Lab_2_Exercises(ML).ipynb\" target=\"_parent\"><img src=\"https://colab.research.google.com/assets/colab-badge.svg\" alt=\"Open In Colab\"/></a>"
      ]
    },
    {
      "cell_type": "markdown",
      "metadata": {
        "id": "chcMMiJKcqyJ"
      },
      "source": [
        "# **19CSE305: MACHINE LEARNING LAB 2**"
      ]
    },
    {
      "cell_type": "markdown",
      "metadata": {
        "id": "0Q-TStVVdFaA"
      },
      "source": [
        "\n",
        "\n",
        "\n",
        "\n",
        "ROLL NUMBER: "
      ]
    },
    {
      "cell_type": "markdown",
      "metadata": {
        "id": "-7EeRdSAGbw3"
      },
      "source": [
        "## Python Basic Exercises\n",
        "\n",
        "1. Get the values P,t,R from user and calculate compound interest. Formula to calculate compound interest annually is given by: \n",
        "        A = P(1+R/100)*t\n",
        "        CI = A – P\n",
        "        Input : Principle, Time, Rate\n",
        "        Output : Compound Interest\n",
        "2. Given a list of strings (Entered by the user), write program to get a percentage share of each word in the strings list.\n",
        "        percentage = (Occurrence of a word / Total words) * 100\n",
        "3. Check if  the binary representation of a number is Palindrome or not. Given an integer ‘n’ (entered by the user), write a Python function that returns true if binary representation of 'x' is palindrome and false if not.\n",
        "4. Write a program to check if all digits of a number divide it. Given a number n (entered by the user), find whether all digits of n divide it or not.\n",
        "5. Given a list of numbers (entered by the user), write a program to find the second largest number in that list.\n",
        "        Input: [1, 2, 3, 4 ,5]\n",
        "        Output: 4"
      ]
    },
    {
      "cell_type": "code",
      "execution_count": 8,
      "metadata": {
        "colab": {
          "base_uri": "https://localhost:8080/"
        },
        "id": "SOYsZTltfFGm",
        "outputId": "ef9f7b6e-f669-4829-9ffa-9a47c31824c3"
      },
      "outputs": [
        {
          "output_type": "stream",
          "name": "stdout",
          "text": [
            "Enter the principle \n",
            "10000\n",
            "Enter the time period \n",
            "5\n",
            "Enter the rate \n",
            "10.25\n",
            "The compound interest is  6288.946267774416\n"
          ]
        }
      ],
      "source": [
        "#Question 1 : Compound Interest\n",
        "principle= float(input(\"Enter the principle \\n\"))\n",
        "time = float(input(\"Enter the time period \\n\"))\n",
        "rate = float(input(\"Enter the rate \\n\"))\n",
        "x=1+(rate/100)\n",
        "A = principle*(x**time)\n",
        "CompoundInterest = A - principle\n",
        "print(\"The compound interest is \", CompoundInterest)"
      ]
    },
    {
      "cell_type": "code",
      "source": [
        "#Question 2: Getting percentage share of each word\n",
        "string = input()\n",
        "stringList = string.split(\" \")\n",
        "stringCheck = input()\n",
        "\n",
        "count = 0\n",
        "percentage = 0\n",
        " \n",
        "for i in stringList:\n",
        "  if (i==stringCheck):\n",
        "    count +=1\n",
        "  \n",
        "percentage = (count/len(stringList))*100\n",
        "print(percentage)"
      ],
      "metadata": {
        "colab": {
          "base_uri": "https://localhost:8080/"
        },
        "id": "b04ZpIpGi4vg",
        "outputId": "0cd47b6d-5a47-4ca6-943e-f4018ca907fd"
      },
      "execution_count": 15,
      "outputs": [
        {
          "output_type": "stream",
          "name": "stdout",
          "text": [
            "the car wash is the\n",
            "the\n",
            "40.0\n"
          ]
        }
      ]
    },
    {
      "cell_type": "code",
      "source": [
        "#Question 3: Check if a binary "
      ],
      "metadata": {
        "id": "wZ9Z7no0p-Ra"
      },
      "execution_count": null,
      "outputs": []
    },
    {
      "cell_type": "markdown",
      "metadata": {
        "id": "Q3Ba9vORIPW4"
      },
      "source": [
        "## Numpy Basic Exercises\n",
        "\n",
        "1. Create a 3D array of shape 4*5*2 that contains random decimal numbers between 1 and 10.\n",
        "2. Create a randomly created 1D array and Convert it to a 2D array with 2 rows.\n",
        "3. Given a NumPy array of temperature values, convert the values of Centigrade degrees into Fahrenheit degrees. \n",
        "4. Write a NumPy program to count the number of dimensions, number of elements and number of bytes for each element in a given array.\n",
        "5. Write a NumPy program to extract third and second elements of the first and second rows from a given (3x4) array"
      ]
    }
  ],
  "metadata": {
    "colab": {
      "collapsed_sections": [],
      "provenance": [],
      "toc_visible": true,
      "include_colab_link": true
    },
    "kernelspec": {
      "display_name": "Python 3",
      "name": "python3"
    },
    "language_info": {
      "name": "python"
    }
  },
  "nbformat": 4,
  "nbformat_minor": 0
}