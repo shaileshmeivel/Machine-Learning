{
  "cells": [
    {
      "cell_type": "markdown",
      "metadata": {
        "id": "view-in-github",
        "colab_type": "text"
      },
      "source": [
        "<a href=\"https://colab.research.google.com/github/shaileshmeivel/Machine-Learning/blob/main/Excercise_3_(ML).ipynb\" target=\"_parent\"><img src=\"https://colab.research.google.com/assets/colab-badge.svg\" alt=\"Open In Colab\"/></a>"
      ]
    },
    {
      "cell_type": "markdown",
      "metadata": {
        "id": "icY69lbOzQo0"
      },
      "source": [
        "# 19CSE305: MACHINE LEARNING LAB **3** \n",
        "\n",
        "EXCERCISES\n",
        "\n",
        "ROLL NUMBER:"
      ]
    },
    {
      "cell_type": "markdown",
      "metadata": {
        "id": "8q_LnPtazmgC"
      },
      "source": [
        "Upload the dataset Automobile_data.csv and complete the following task\n",
        "\n",
        "1. From the given dataset print the first and last five rows\n",
        "\n",
        "2. Find the most expensive car company name\n",
        "\n",
        "3. Print All Toyota Cars details\n",
        "\n",
        "4. Count total cars per company\n",
        "\n",
        "5. Find each company’s Higesht price car\n",
        "\n",
        "6. Find the average mileage of each car making company\n",
        "\n",
        "7. Find five number summary\n",
        "\n",
        "8. Sort all cars by Price column\n",
        "\n",
        "9. Concatenate two data frames given below\n",
        "    \n",
        "    GermanCars = {'Company': ['Ford', 'Mercedes', 'BMV', 'Audi'], 'Price': [23845, 171995, 135925 , 71400]}\n",
        "    \n",
        "    japaneseCars = {'Company': ['Toyota', 'Honda', 'Nissan', 'Mitsubishi '], 'Price': [29995, 23600, 61500 , 58900]}\n",
        "\n",
        "10. Merge two data frames given below\n",
        "\n",
        "    Car_Price = {'Company': ['Toyota', 'Honda', 'BMV', 'Audi'], 'Price': [23845, 17995, 135925 , 71400]}\n",
        "    \n",
        "    car_Horsepower = {'Company': ['Toyota', 'Honda', 'BMV', 'Audi'], 'horsepower': [141, 80, 182 , 160]}"
      ]
    },
    {
      "cell_type": "code",
      "source": [
        "#Question 1\n",
        "import pandas as pd\n",
        "dataset = pd.read_csv('Automobile_data.csv')\n",
        "print(dataset[:5])\n",
        "print(dataset[-5:])\n"
      ],
      "metadata": {
        "colab": {
          "base_uri": "https://localhost:8080/"
        },
        "id": "e5of7ADJkGV6",
        "outputId": "8c7f77b6-b785-4b7d-dff3-efb9fee29425"
      },
      "execution_count": 1,
      "outputs": [
        {
          "output_type": "stream",
          "name": "stdout",
          "text": [
            "   index      company   body-style  wheel-base  length engine-type  \\\n",
            "0      0  alfa-romero  convertible        88.6   168.8        dohc   \n",
            "1      1  alfa-romero  convertible        88.6   168.8        dohc   \n",
            "2      2  alfa-romero    hatchback        94.5   171.2        ohcv   \n",
            "3      3         audi        sedan        99.8   176.6         ohc   \n",
            "4      4         audi        sedan        99.4   176.6         ohc   \n",
            "\n",
            "  num-of-cylinders  horsepower  average-mileage    price  \n",
            "0             four         111               21  13495.0  \n",
            "1             four         111               21  16500.0  \n",
            "2              six         154               19  16500.0  \n",
            "3             four         102               24  13950.0  \n",
            "4             five         115               18  17450.0  \n",
            "    index     company body-style  wheel-base  length engine-type  \\\n",
            "56     81  volkswagen      sedan        97.3   171.7         ohc   \n",
            "57     82  volkswagen      sedan        97.3   171.7         ohc   \n",
            "58     86  volkswagen      sedan        97.3   171.7         ohc   \n",
            "59     87       volvo      sedan       104.3   188.8         ohc   \n",
            "60     88       volvo      wagon       104.3   188.8         ohc   \n",
            "\n",
            "   num-of-cylinders  horsepower  average-mileage    price  \n",
            "56             four          85               27   7975.0  \n",
            "57             four          52               37   7995.0  \n",
            "58             four         100               26   9995.0  \n",
            "59             four         114               23  12940.0  \n",
            "60             four         114               23  13415.0  \n"
          ]
        }
      ]
    },
    {
      "cell_type": "code",
      "source": [
        "#Question 2:\n",
        "# size=len(dataset)\n",
        "# number = 0\n",
        "# pricee = 0\n",
        "# for i in range (0, size):\n",
        "#   if(dataset.price[i]>pricee):\n",
        "#     number = i\n",
        "#     pricee = dataset.price[i]\n",
        "# number\n",
        "# dataset.company[number]\n",
        "\n",
        "maxValue = dataset['price'].idxmax()\n",
        "dataset.company[maxValue]\n"
      ],
      "metadata": {
        "colab": {
          "base_uri": "https://localhost:8080/",
          "height": 36
        },
        "id": "jkIhUlS0nZ6C",
        "outputId": "cb9f2fd0-c994-4e45-de7b-30883ddd878f"
      },
      "execution_count": 9,
      "outputs": [
        {
          "output_type": "execute_result",
          "data": {
            "text/plain": [
              "'mercedes-benz'"
            ],
            "application/vnd.google.colaboratory.intrinsic+json": {
              "type": "string"
            }
          },
          "metadata": {},
          "execution_count": 9
        }
      ]
    },
    {
      "cell_type": "code",
      "source": [],
      "metadata": {
        "id": "ncG19BYqn6uM"
      },
      "execution_count": null,
      "outputs": []
    }
  ],
  "metadata": {
    "colab": {
      "provenance": [],
      "include_colab_link": true
    },
    "kernelspec": {
      "display_name": "Python 3",
      "name": "python3"
    },
    "language_info": {
      "name": "python"
    }
  },
  "nbformat": 4,
  "nbformat_minor": 0
}